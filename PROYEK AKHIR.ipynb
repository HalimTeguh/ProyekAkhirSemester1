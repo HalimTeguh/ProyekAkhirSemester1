{
 "cells": [
  {
   "cell_type": "code",
   "execution_count": 7,
   "id": "62e59446",
   "metadata": {},
   "outputs": [
    {
     "name": "stdout",
     "output_type": "stream",
     "text": [
      "Menu Harga Barang\n",
      "Mineral\t\t3000\t\t\n",
      "Cola\t\t5000\t\t\n",
      "Susu\t\t4000\t\t\n",
      "\n",
      "Ingin Membeli sesuatu? (y/n) : y\n",
      "\n",
      "Berapa Barang yang ingin dibeli? 3\n",
      "Nama Barang 1 : susu\n",
      "Berapa Banyak Barang 1 : 1\n",
      "Nama Barang 2 : cola\n",
      "Berapa Banyak Barang 2 : 1\n",
      "Nama Barang 3 : mineral\n",
      "Berapa Banyak Barang 3 : 2\n",
      "\n",
      "Total Pembelian adalah 15000\n"
     ]
    }
   ],
   "source": [
    "static void Stok(){\n",
    "    System.out.println(\"Menu Harga Barang\");\n",
    "    String[][] menu = new String[namaBarang.length][2];\n",
    "    for(int i = 0; i < menu.length; i++){\n",
    "        for(int j = 0; j < menu[0].length; j++){\n",
    "            menu[i][0] = namaBarang[i];\n",
    "            menu[i][1] = Integer.toString(hargaBarang[i]);\n",
    "        }\n",
    "    }\n",
    "    \n",
    "    for(int i = 0; i < menu.length; i++){\n",
    "        for(int j = 0; j < menu[0].length; j++){\n",
    "            System.out.print(menu[i][j] + \"\\t\\t\");\n",
    "        }\n",
    "        System.out.println();\n",
    "    }\n",
    "}\n",
    "\n",
    "static int TransaksiMulti(int a){\n",
    "    System.out.print(\"\\nBerapa Barang yang ingin dibeli? \");\n",
    "    int x = input.nextInt();\n",
    "    for(int i = 0; i < x; i++){\n",
    "        System.out.print(\"Nama Barang \" + (i+1) + \" : \");\n",
    "        String barang = inputStr.nextLine();\n",
    "        for(int j = 0; j < namaBarang.length; j++){\n",
    "            if(barang.equalsIgnoreCase(namaBarang[j])){\n",
    "                System.out.print(\"Berapa Banyak Barang \" + (i+1) + \" : \");\n",
    "                banyak = input.nextInt();\n",
    "                banyak *= hargaBarang[j];\n",
    "            }else{\n",
    "                continue;\n",
    "            }\n",
    "        total += banyak;\n",
    "        }\n",
    "    }\n",
    "    return total;\n",
    "}\n",
    "    \n",
    "\n",
    "Scanner input = new Scanner(System.in);\n",
    "Scanner inputStr = new Scanner(System.in);\n",
    "String[] namaBarang = {\"Mineral\", \"Cola\", \"Susu\"};\n",
    "int[] hargaBarang = {3000, 5000, 4000};\n",
    "char respon;\n",
    "int jumlahPembelian, total, banyak;\n",
    "\n",
    "Stok();\n",
    "System.out.print(\"\\nIngin Membeli sesuatu? (y/n) : \");\n",
    "respon = input.next().charAt(0);\n",
    "if(respon == 'y'){\n",
    "    System.out.println(\"\\nTotal Pembelian adalah \" + TransaksiMulti(jumlahPembelian));\n",
    "}\n"
   ]
  },
  {
   "cell_type": "code",
   "execution_count": 6,
   "id": "c3045b9f",
   "metadata": {},
   "outputs": [
    {
     "name": "stdout",
     "output_type": "stream",
     "text": [
      "Berapa Barang yang ingin dibeli? 2\n",
      "Nama Barang1 : mineral\n",
      "Berapa Banyak Barang: 2\n",
      "Nama Barang2 : susu\n",
      "Berapa Banyak Barang: 1\n",
      "10000\n"
     ]
    }
   ],
   "source": [
    "Scanner input = new Scanner(System.in);\n",
    "Scanner inputStr = new Scanner(System.in);\n",
    "String[] namaBarang = {\"Mineral\", \"Cola\", \"Susu\"};\n",
    "int[] hargaBarang = {3000, 5000, 4000};\n",
    "int total,banyak;\n",
    "\n",
    "System.out.print(\"Berapa Barang yang ingin dibeli? \");\n",
    "int x = input.nextInt();\n",
    "for(int i = 0; i < x; i++){\n",
    "    System.out.print(\"Nama Barang\" + (i+1) + \" : \");\n",
    "    String barang = inputStr.nextLine();\n",
    "    for(int j = 0; j < namaBarang.length; j++){\n",
    "        if(barang.equalsIgnoreCase(namaBarang[j])){\n",
    "            System.out.print(\"Berapa Banyak Barang: \");\n",
    "            banyak = input.nextInt();\n",
    "            banyak *= hargaBarang[j];\n",
    "        }else{\n",
    "            continue;\n",
    "        }\n",
    "    total += banyak;\n",
    "    }\n",
    "}\n",
    "System.out.println(total);"
   ]
  },
  {
   "cell_type": "code",
   "execution_count": null,
   "id": "ba394d01",
   "metadata": {},
   "outputs": [],
   "source": [
    "Scanner input = new Scanner(System.in);\n",
    "String[] namaBarang = {\"Mineral\", \"Cola\", \"Susu\"};\n",
    "int[] hargaBarang = {3000, 5000, 4000};\n",
    "\n",
    "System.out.print(\"nama Barang : \");\n",
    "String x = input.nextLine();\n",
    "if(x.equals(namaBarang[0])){\n",
    "    System.out.println(\"Masuk\");\n",
    "}"
   ]
  },
  {
   "cell_type": "code",
   "execution_count": 9,
   "id": "a7448717",
   "metadata": {},
   "outputs": [
    {
     "name": "stdout",
     "output_type": "stream",
     "text": [
      "Masukkan Banyak Barang: 4\n",
      "Masukkan nama Barang 1 : a\n",
      "Masukkan nama Barang 2 : a\n",
      "Masukkan nama Barang 3 : a\n",
      "Masukkan nama Barang 4 : a\n"
     ]
    }
   ],
   "source": [
    "Scanner input = new Scanner(System.in);\n",
    "Scanner inputStr = new Scanner(System.in);\n",
    "String nama;\n",
    "int banyak;\n",
    "System.out.print(\"Masukkan Banyak Barang: \");\n",
    "banyak = input.nextInt();\n",
    "\n",
    "for(int i = 0; i<banyak; i++){\n",
    "    System.out.print(\"Masukkan nama Barang \" + (i+1) + \" : \");\n",
    "    nama = inputStr.nextLine();\n",
    "}"
   ]
  },
  {
   "cell_type": "code",
   "execution_count": null,
   "id": "5dac1138",
   "metadata": {},
   "outputs": [],
   "source": []
  }
 ],
 "metadata": {
  "kernelspec": {
   "display_name": "Java",
   "language": "java",
   "name": "java"
  },
  "language_info": {
   "codemirror_mode": "java",
   "file_extension": ".jshell",
   "mimetype": "text/x-java-source",
   "name": "Java",
   "pygments_lexer": "java",
   "version": "11.0.12+8-LTS-237"
  }
 },
 "nbformat": 4,
 "nbformat_minor": 5
}
